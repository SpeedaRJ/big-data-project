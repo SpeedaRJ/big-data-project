{
 "cells": [
  {
   "cell_type": "code",
   "execution_count": 1,
   "metadata": {},
   "outputs": [],
   "source": [
    "import pandas as pd\n",
    "import numpy as np\n",
    "import os"
   ]
  },
  {
   "cell_type": "code",
   "execution_count": 2,
   "metadata": {},
   "outputs": [],
   "source": [
    "data = pd.read_parquet(\"../data/parking_tickets/parquet/filtered/2015_filtered.parquet\")"
   ]
  },
  {
   "cell_type": "code",
   "execution_count": 3,
   "metadata": {},
   "outputs": [
    {
     "data": {
      "text/plain": [
       "(8299895, 39)"
      ]
     },
     "execution_count": 3,
     "metadata": {},
     "output_type": "execute_result"
    }
   ],
   "source": [
    "data.shape"
   ]
  },
  {
   "cell_type": "code",
   "execution_count": 4,
   "metadata": {},
   "outputs": [],
   "source": [
    "weather_data = pd.read_csv(\"../data/additional_data/weather/weather_NYC_2013_2024_processed.csv\", sep=\";\")\n",
    "ms_data = pd.read_csv(\"../data/additional_data/schools/middle_schools_NYC_2021_processed.csv\")\n",
    "hs_data = pd.read_csv(\"../data/additional_data/schools/high_schools_NYC_2021_processed.csv\")\n",
    "li_data = pd.read_csv(\"../data/additional_data/landmarks/landmarks_NYC_individual_processed.csv\")\n",
    "ls_data = pd.read_csv(\"../data/additional_data/landmarks/landmarks_NYC_scenic_processed.csv\")"
   ]
  },
  {
   "cell_type": "code",
   "execution_count": 5,
   "metadata": {},
   "outputs": [],
   "source": [
    "weather_data[\"datetime\"] = pd.to_datetime(weather_data[\"datetime\"]).astype(np.int64) // 10**6"
   ]
  },
  {
   "cell_type": "code",
   "execution_count": 6,
   "metadata": {},
   "outputs": [],
   "source": [
    "from rtree.index import Index\n",
    "from tqdm import tqdm\n",
    "\n",
    "\n",
    "from haversine import haversine\n",
    "\n",
    "\n",
    "def get_nearest_location(idx, lat, lang):\n",
    "    hit = list(idx.nearest((lat, lang, lat, lang), 1, objects=True))[0].object\n",
    "    return (hit[\"name\"], haversine((lat, lang), (hit[\"lat\"], hit[\"long\"])))\n",
    "\n",
    "\n",
    "def computational_wrapper(row, lat_i, long_i, idx):\n",
    "    return get_nearest_location(idx, row[lat_i], row[long_i])\n",
    "\n",
    "\n",
    "def process_merge(data, augment_data, new_name, distance_name, name=\"name\", save_location=None):\n",
    "    if os.path.exists(save_location):\n",
    "        return pd.read_parquet(save_location)\n",
    "    idx = Index()\n",
    "    for i, row in tqdm(\n",
    "        enumerate(augment_data.iterrows()),\n",
    "        desc=\"Builing location index\",\n",
    "        total=augment_data.shape[0],\n",
    "    ):\n",
    "        row = row[1]\n",
    "        idx.insert(\n",
    "            i,\n",
    "            (row[\"Latitude\"], row[\"Longitude\"], row[\"Latitude\"], row[\"Longitude\"]),\n",
    "            obj={\"name\": row[name], \"lat\": row[\"Latitude\"], \"long\": row[\"Longitude\"]},\n",
    "        )\n",
    "\n",
    "    lat_i = data.columns.tolist().index(\"Latitude\") + 1\n",
    "    long_i = data.columns.tolist().index(\"Longitude\") + 1\n",
    "    res = []\n",
    "\n",
    "    for row in tqdm(\n",
    "        data.itertuples(), total=data.shape[0], desc=\"Generating reference dataframe\"\n",
    "    ):\n",
    "        res.append(computational_wrapper(row, lat_i, long_i, idx))\n",
    "\n",
    "    res = pd.DataFrame(\n",
    "        res,\n",
    "        columns=[new_name, distance_name],\n",
    "        index=data.index,\n",
    "    )\n",
    "\n",
    "    data = data.merge(res, how=\"left\", left_index=True, right_index=True)\n",
    "    data.to_parquet(\n",
    "        save_location\n",
    "    )\n",
    "    return data"
   ]
  },
  {
   "cell_type": "code",
   "execution_count": 7,
   "metadata": {},
   "outputs": [
    {
     "name": "stdout",
     "output_type": "stream",
     "text": [
      "CPU times: total: 24 s\n",
      "Wall time: 28.6 s\n"
     ]
    }
   ],
   "source": [
    "%%time\n",
    "if os.path.exists(\"../data/augmented_data/tickets_weather_2015.parquet\"):\n",
    "    data_w_weather = pd.read_parquet(\"../data/augmented_data/tickets_weather_2015.parquet\")\n",
    "else:\n",
    "    data_w_weather = data.merge(weather_data, how=\"left\", left_on=\"Issue Date\", right_on=\"datetime\")\n",
    "    data_w_weather.to_parquet(\"../data/augmented_data/tickets_weather_2015.parquet\")"
   ]
  },
  {
   "cell_type": "code",
   "execution_count": 8,
   "metadata": {},
   "outputs": [
    {
     "data": {
      "text/plain": [
       "(8299895, 47)"
      ]
     },
     "execution_count": 8,
     "metadata": {},
     "output_type": "execute_result"
    }
   ],
   "source": [
    "data_w_weather.shape"
   ]
  },
  {
   "cell_type": "code",
   "execution_count": 9,
   "metadata": {},
   "outputs": [
    {
     "name": "stdout",
     "output_type": "stream",
     "text": [
      "CPU times: total: 35.9 s\n",
      "Wall time: 9.67 s\n"
     ]
    }
   ],
   "source": [
    "%%time\n",
    "data_w_w_ms = process_merge(data_w_weather, ms_data, \"Closest Middle School\", \"Distance to CMS\", \"name\", \"../data/augmented_data/tickets_w_ms_2015.parquet\")"
   ]
  },
  {
   "cell_type": "code",
   "execution_count": 10,
   "metadata": {},
   "outputs": [
    {
     "data": {
      "text/plain": [
       "(8299895, 49)"
      ]
     },
     "execution_count": 10,
     "metadata": {},
     "output_type": "execute_result"
    }
   ],
   "source": [
    "data_w_w_ms.shape"
   ]
  },
  {
   "cell_type": "code",
   "execution_count": 11,
   "metadata": {},
   "outputs": [
    {
     "ename": "KeyboardInterrupt",
     "evalue": "",
     "output_type": "error",
     "traceback": [
      "\u001b[1;31m---------------------------------------------------------------------------\u001b[0m",
      "\u001b[1;31mKeyboardInterrupt\u001b[0m                         Traceback (most recent call last)",
      "File \u001b[1;32m<timed exec>:1\u001b[0m\n",
      "Cell \u001b[1;32mIn[6], line 19\u001b[0m, in \u001b[0;36mprocess_merge\u001b[1;34m(data, augment_data, new_name, distance_name, name, save_location)\u001b[0m\n\u001b[0;32m     17\u001b[0m \u001b[38;5;28;01mdef\u001b[39;00m \u001b[38;5;21mprocess_merge\u001b[39m(data, augment_data, new_name, distance_name, name\u001b[38;5;241m=\u001b[39m\u001b[38;5;124m\"\u001b[39m\u001b[38;5;124mname\u001b[39m\u001b[38;5;124m\"\u001b[39m, save_location\u001b[38;5;241m=\u001b[39m\u001b[38;5;28;01mNone\u001b[39;00m):\n\u001b[0;32m     18\u001b[0m     \u001b[38;5;28;01mif\u001b[39;00m os\u001b[38;5;241m.\u001b[39mpath\u001b[38;5;241m.\u001b[39mexists(save_location):\n\u001b[1;32m---> 19\u001b[0m         \u001b[38;5;28;01mreturn\u001b[39;00m \u001b[43mpd\u001b[49m\u001b[38;5;241;43m.\u001b[39;49m\u001b[43mread_parquet\u001b[49m\u001b[43m(\u001b[49m\u001b[43msave_location\u001b[49m\u001b[43m)\u001b[49m\n\u001b[0;32m     20\u001b[0m     idx \u001b[38;5;241m=\u001b[39m Index()\n\u001b[0;32m     21\u001b[0m     \u001b[38;5;28;01mfor\u001b[39;00m i, row \u001b[38;5;129;01min\u001b[39;00m tqdm(\n\u001b[0;32m     22\u001b[0m         \u001b[38;5;28menumerate\u001b[39m(augment_data\u001b[38;5;241m.\u001b[39miterrows()),\n\u001b[0;32m     23\u001b[0m         desc\u001b[38;5;241m=\u001b[39m\u001b[38;5;124m\"\u001b[39m\u001b[38;5;124mBuiling location index\u001b[39m\u001b[38;5;124m\"\u001b[39m,\n\u001b[0;32m     24\u001b[0m         total\u001b[38;5;241m=\u001b[39maugment_data\u001b[38;5;241m.\u001b[39mshape[\u001b[38;5;241m0\u001b[39m],\n\u001b[0;32m     25\u001b[0m     ):\n",
      "File \u001b[1;32mc:\\Users\\rjutr\\anaconda3\\envs\\bigdata\\lib\\site-packages\\pandas\\io\\parquet.py:667\u001b[0m, in \u001b[0;36mread_parquet\u001b[1;34m(path, engine, columns, storage_options, use_nullable_dtypes, dtype_backend, filesystem, filters, **kwargs)\u001b[0m\n\u001b[0;32m    664\u001b[0m     use_nullable_dtypes \u001b[38;5;241m=\u001b[39m \u001b[38;5;28;01mFalse\u001b[39;00m\n\u001b[0;32m    665\u001b[0m check_dtype_backend(dtype_backend)\n\u001b[1;32m--> 667\u001b[0m \u001b[38;5;28;01mreturn\u001b[39;00m impl\u001b[38;5;241m.\u001b[39mread(\n\u001b[0;32m    668\u001b[0m     path,\n\u001b[0;32m    669\u001b[0m     columns\u001b[38;5;241m=\u001b[39mcolumns,\n\u001b[0;32m    670\u001b[0m     filters\u001b[38;5;241m=\u001b[39mfilters,\n\u001b[0;32m    671\u001b[0m     storage_options\u001b[38;5;241m=\u001b[39mstorage_options,\n\u001b[0;32m    672\u001b[0m     use_nullable_dtypes\u001b[38;5;241m=\u001b[39muse_nullable_dtypes,\n\u001b[0;32m    673\u001b[0m     dtype_backend\u001b[38;5;241m=\u001b[39mdtype_backend,\n\u001b[0;32m    674\u001b[0m     filesystem\u001b[38;5;241m=\u001b[39mfilesystem,\n\u001b[0;32m    675\u001b[0m     \u001b[38;5;241m*\u001b[39m\u001b[38;5;241m*\u001b[39mkwargs,\n\u001b[0;32m    676\u001b[0m )\n",
      "File \u001b[1;32mc:\\Users\\rjutr\\anaconda3\\envs\\bigdata\\lib\\site-packages\\pandas\\io\\parquet.py:281\u001b[0m, in \u001b[0;36mPyArrowImpl.read\u001b[1;34m(self, path, columns, filters, use_nullable_dtypes, dtype_backend, storage_options, filesystem, **kwargs)\u001b[0m\n\u001b[0;32m    273\u001b[0m \u001b[38;5;28;01mtry\u001b[39;00m:\n\u001b[0;32m    274\u001b[0m     pa_table \u001b[38;5;241m=\u001b[39m \u001b[38;5;28mself\u001b[39m\u001b[38;5;241m.\u001b[39mapi\u001b[38;5;241m.\u001b[39mparquet\u001b[38;5;241m.\u001b[39mread_table(\n\u001b[0;32m    275\u001b[0m         path_or_handle,\n\u001b[0;32m    276\u001b[0m         columns\u001b[38;5;241m=\u001b[39mcolumns,\n\u001b[1;32m   (...)\u001b[0m\n\u001b[0;32m    279\u001b[0m         \u001b[38;5;241m*\u001b[39m\u001b[38;5;241m*\u001b[39mkwargs,\n\u001b[0;32m    280\u001b[0m     )\n\u001b[1;32m--> 281\u001b[0m     result \u001b[38;5;241m=\u001b[39m pa_table\u001b[38;5;241m.\u001b[39mto_pandas(\u001b[38;5;241m*\u001b[39m\u001b[38;5;241m*\u001b[39mto_pandas_kwargs)\n\u001b[0;32m    283\u001b[0m     \u001b[38;5;28;01mif\u001b[39;00m manager \u001b[38;5;241m==\u001b[39m \u001b[38;5;124m\"\u001b[39m\u001b[38;5;124marray\u001b[39m\u001b[38;5;124m\"\u001b[39m:\n\u001b[0;32m    284\u001b[0m         result \u001b[38;5;241m=\u001b[39m result\u001b[38;5;241m.\u001b[39m_as_manager(\u001b[38;5;124m\"\u001b[39m\u001b[38;5;124marray\u001b[39m\u001b[38;5;124m\"\u001b[39m, copy\u001b[38;5;241m=\u001b[39m\u001b[38;5;28;01mFalse\u001b[39;00m)\n",
      "File \u001b[1;32mc:\\Users\\rjutr\\anaconda3\\envs\\bigdata\\lib\\site-packages\\pyarrow\\array.pxi:884\u001b[0m, in \u001b[0;36mpyarrow.lib._PandasConvertible.to_pandas\u001b[1;34m()\u001b[0m\n",
      "File \u001b[1;32mc:\\Users\\rjutr\\anaconda3\\envs\\bigdata\\lib\\site-packages\\pyarrow\\table.pxi:4192\u001b[0m, in \u001b[0;36mpyarrow.lib.Table._to_pandas\u001b[1;34m()\u001b[0m\n",
      "File \u001b[1;32mc:\\Users\\rjutr\\anaconda3\\envs\\bigdata\\lib\\site-packages\\pyarrow\\pandas_compat.py:776\u001b[0m, in \u001b[0;36mtable_to_dataframe\u001b[1;34m(options, table, categories, ignore_metadata, types_mapper)\u001b[0m\n\u001b[0;32m    774\u001b[0m _check_data_column_metadata_consistency(all_columns)\n\u001b[0;32m    775\u001b[0m columns \u001b[38;5;241m=\u001b[39m _deserialize_column_index(table, all_columns, column_indexes)\n\u001b[1;32m--> 776\u001b[0m blocks \u001b[38;5;241m=\u001b[39m \u001b[43m_table_to_blocks\u001b[49m\u001b[43m(\u001b[49m\u001b[43moptions\u001b[49m\u001b[43m,\u001b[49m\u001b[43m \u001b[49m\u001b[43mtable\u001b[49m\u001b[43m,\u001b[49m\u001b[43m \u001b[49m\u001b[43mcategories\u001b[49m\u001b[43m,\u001b[49m\u001b[43m \u001b[49m\u001b[43mext_columns_dtypes\u001b[49m\u001b[43m)\u001b[49m\n\u001b[0;32m    778\u001b[0m axes \u001b[38;5;241m=\u001b[39m [columns, index]\n\u001b[0;32m    779\u001b[0m mgr \u001b[38;5;241m=\u001b[39m BlockManager(blocks, axes)\n",
      "File \u001b[1;32mc:\\Users\\rjutr\\anaconda3\\envs\\bigdata\\lib\\site-packages\\pyarrow\\pandas_compat.py:1129\u001b[0m, in \u001b[0;36m_table_to_blocks\u001b[1;34m(options, block_table, categories, extension_columns)\u001b[0m\n\u001b[0;32m   1124\u001b[0m \u001b[38;5;28;01mdef\u001b[39;00m \u001b[38;5;21m_table_to_blocks\u001b[39m(options, block_table, categories, extension_columns):\n\u001b[0;32m   1125\u001b[0m     \u001b[38;5;66;03m# Part of table_to_blockmanager\u001b[39;00m\n\u001b[0;32m   1126\u001b[0m \n\u001b[0;32m   1127\u001b[0m     \u001b[38;5;66;03m# Convert an arrow table to Block from the internal pandas API\u001b[39;00m\n\u001b[0;32m   1128\u001b[0m     columns \u001b[38;5;241m=\u001b[39m block_table\u001b[38;5;241m.\u001b[39mcolumn_names\n\u001b[1;32m-> 1129\u001b[0m     result \u001b[38;5;241m=\u001b[39m \u001b[43mpa\u001b[49m\u001b[38;5;241;43m.\u001b[39;49m\u001b[43mlib\u001b[49m\u001b[38;5;241;43m.\u001b[39;49m\u001b[43mtable_to_blocks\u001b[49m\u001b[43m(\u001b[49m\u001b[43moptions\u001b[49m\u001b[43m,\u001b[49m\u001b[43m \u001b[49m\u001b[43mblock_table\u001b[49m\u001b[43m,\u001b[49m\u001b[43m \u001b[49m\u001b[43mcategories\u001b[49m\u001b[43m,\u001b[49m\n\u001b[0;32m   1130\u001b[0m \u001b[43m                                    \u001b[49m\u001b[38;5;28;43mlist\u001b[39;49m\u001b[43m(\u001b[49m\u001b[43mextension_columns\u001b[49m\u001b[38;5;241;43m.\u001b[39;49m\u001b[43mkeys\u001b[49m\u001b[43m(\u001b[49m\u001b[43m)\u001b[49m\u001b[43m)\u001b[49m\u001b[43m)\u001b[49m\n\u001b[0;32m   1131\u001b[0m     \u001b[38;5;28;01mreturn\u001b[39;00m [_reconstruct_block(item, columns, extension_columns)\n\u001b[0;32m   1132\u001b[0m             \u001b[38;5;28;01mfor\u001b[39;00m item \u001b[38;5;129;01min\u001b[39;00m result]\n",
      "\u001b[1;31mKeyboardInterrupt\u001b[0m: "
     ]
    }
   ],
   "source": [
    "%%time\n",
    "data_w_w_ms_hs = process_merge(data_w_w_ms, hs_data, \"Closest High School\", \"Distance to CHS\", \"school_name\", \"../data/augmented_data/tickets_w_ms_hs_2015.parquet\")"
   ]
  },
  {
   "cell_type": "code",
   "execution_count": null,
   "metadata": {},
   "outputs": [
    {
     "data": {
      "text/plain": [
       "(8299895, 51)"
      ]
     },
     "execution_count": 17,
     "metadata": {},
     "output_type": "execute_result"
    }
   ],
   "source": [
    "data_w_w_ms_hs.shape"
   ]
  },
  {
   "cell_type": "code",
   "execution_count": null,
   "metadata": {},
   "outputs": [
    {
     "name": "stderr",
     "output_type": "stream",
     "text": [
      "Builing location index: 100%|██████████| 1531/1531 [00:00<00:00, 10372.48it/s]\n",
      "Generating reference dataframe: 100%|██████████| 8299895/8299895 [14:10<00:00, 9757.97it/s] \n"
     ]
    },
    {
     "name": "stdout",
     "output_type": "stream",
     "text": [
      "CPU times: total: 14min 44s\n",
      "Wall time: 14min 50s\n"
     ]
    }
   ],
   "source": [
    "%%time\n",
    "data_w_w_ms_hs_li = process_merge(data_w_w_ms_hs, li_data, \"Closest Individual Landmark\", \"Distance to CIL\", \"LPC_NAME\", \"../data/augmented_data/tickets_w_ms_hs_li_2015.parquet\")"
   ]
  },
  {
   "cell_type": "code",
   "execution_count": null,
   "metadata": {},
   "outputs": [
    {
     "data": {
      "text/plain": [
       "(8299895, 53)"
      ]
     },
     "execution_count": 19,
     "metadata": {},
     "output_type": "execute_result"
    }
   ],
   "source": [
    "data_w_w_ms_hs_li.shape"
   ]
  },
  {
   "cell_type": "code",
   "execution_count": null,
   "metadata": {},
   "outputs": [
    {
     "name": "stderr",
     "output_type": "stream",
     "text": [
      "Builing location index: 100%|██████████| 11/11 [00:00<00:00, 5170.61it/s]\n",
      "Generating reference dataframe: 100%|██████████| 8299895/8299895 [07:51<00:00, 17603.12it/s]\n"
     ]
    },
    {
     "name": "stdout",
     "output_type": "stream",
     "text": [
      "CPU times: total: 8min 26s\n",
      "Wall time: 8min 33s\n"
     ]
    }
   ],
   "source": [
    "%%time\n",
    "data_w_w_ms_hs_li_ls = process_merge(data_w_w_ms_hs_li, ls_data, \"Closest Scenic Landmark\", \"Distance to CIS\", \"SCEN_LM_NA\", \"../data/augmented_data/tickets_w_ms_hs_li_ls_2015.parquet\")"
   ]
  },
  {
   "cell_type": "code",
   "execution_count": null,
   "metadata": {},
   "outputs": [
    {
     "data": {
      "text/plain": [
       "(8299895, 55)"
      ]
     },
     "execution_count": 21,
     "metadata": {},
     "output_type": "execute_result"
    }
   ],
   "source": [
    "data_w_w_ms_hs_li_ls.shape"
   ]
  },
  {
   "cell_type": "code",
   "execution_count": null,
   "metadata": {},
   "outputs": [],
   "source": [
    "def get_nearest_locations(idx, lat, lang, n):\n",
    "    return [\n",
    "        item.object\n",
    "        for item in list(idx.nearest((lat, lang, lat, lang), n, objects=True))\n",
    "    ]\n",
    "\n",
    "\n",
    "def computational_wrapper(row, lat_i, long_i, idx, time_i, n=1):\n",
    "    locations = pd.DataFrame(get_nearest_locations(idx, row[lat_i], row[long_i], n))\n",
    "    locations = locations[\n",
    "        (locations[\"active_from\"] <= row[time_i])\n",
    "        & (locations[\"active_to\"] >= row[time_i])\n",
    "    ]\n",
    "    if locations.empty:\n",
    "        return computational_wrapper(row, lat_i, long_i, idx, time_i, n * 2)\n",
    "    return (\n",
    "        locations.iloc[0][\"name\"],\n",
    "        locations.iloc[0][\"industry\"],\n",
    "        haversine(\n",
    "            (row[lat_i], row[long_i]),\n",
    "            (locations.iloc[0][\"lat\"], locations.iloc[0][\"long\"]),\n",
    "        ),\n",
    "    )\n",
    "\n",
    "\n",
    "def process_merge_2(\n",
    "    data, augment_data, new_name, distance_name, name=\"name\", save_location=None\n",
    "):\n",
    "    if os.path.exists(save_location):\n",
    "        return pd.read_parquet(save_location)\n",
    "    idx = Index()\n",
    "    for i, row in tqdm(enumerate(augment_data.iterrows()), total=augment_data.shape[0]):\n",
    "        row = row[1]\n",
    "        idx.insert(\n",
    "            i,\n",
    "            (row[\"Latitude\"], row[\"Longitude\"], row[\"Latitude\"], row[\"Longitude\"]),\n",
    "            obj={\n",
    "                \"name\": row[name],\n",
    "                \"industry\": row[\"Industry\"],\n",
    "                \"lat\": row[\"Latitude\"],\n",
    "                \"long\": row[\"Longitude\"],\n",
    "                \"active_from\": pd.Timestamp(\n",
    "                    row[\"License Creation Date\"], unit=\"ms\"\n",
    "                ).timestamp()\n",
    "                * 1000,\n",
    "                \"active_to\": pd.Timestamp(\n",
    "                    row[\"License Expiration Date\"], unit=\"ms\"\n",
    "                ).timestamp()\n",
    "                * 1000,\n",
    "            },\n",
    "        )\n",
    "\n",
    "    lat_i = data.columns.tolist().index(\"Latitude\") + 1\n",
    "    long_i = data.columns.tolist().index(\"Longitude\") + 1\n",
    "    time_i = data.columns.tolist().index(\"Issue Date\") + 1\n",
    "    res = []\n",
    "\n",
    "    for row in tqdm(\n",
    "        data.itertuples(), total=data.shape[0], desc=\"Generating reference dataframe\"\n",
    "    ):\n",
    "        res.append(computational_wrapper(row, lat_i, long_i, idx, time_i))\n",
    "\n",
    "    res = pd.DataFrame(\n",
    "        res,\n",
    "        columns=[new_name, \"Industry of CB\", distance_name],\n",
    "        index=data.index,\n",
    "    )\n",
    "\n",
    "    data = data.merge(res, how=\"left\", left_index=True, right_index=True)\n",
    "    data.to_parquet(\n",
    "        save_location\n",
    "    )\n",
    "    return data"
   ]
  },
  {
   "cell_type": "code",
   "execution_count": null,
   "metadata": {},
   "outputs": [],
   "source": [
    "b_data = pd.read_csv(\"../data/additional_data/businesses/businesses_NYC_2023_processed.csv\")"
   ]
  },
  {
   "cell_type": "code",
   "execution_count": null,
   "metadata": {},
   "outputs": [
    {
     "name": "stderr",
     "output_type": "stream",
     "text": [
      "100%|██████████| 172332/172332 [00:25<00:00, 6711.34it/s]\n",
      "Generating reference dataframe:   1%|          | 44706/8299895 [01:21<4:09:48, 550.78it/s] \n"
     ]
    },
    {
     "ename": "KeyboardInterrupt",
     "evalue": "",
     "output_type": "error",
     "traceback": [
      "\u001b[1;31m---------------------------------------------------------------------------\u001b[0m",
      "\u001b[1;31mKeyboardInterrupt\u001b[0m                         Traceback (most recent call last)",
      "File \u001b[1;32m<timed exec>:1\u001b[0m\n",
      "Cell \u001b[1;32mIn[38], line 51\u001b[0m, in \u001b[0;36mprocess_merge_2\u001b[1;34m(data, augment_data, new_name, distance_name, name)\u001b[0m\n\u001b[0;32m     46\u001b[0m res \u001b[38;5;241m=\u001b[39m []\n\u001b[0;32m     48\u001b[0m \u001b[38;5;28;01mfor\u001b[39;00m row \u001b[38;5;129;01min\u001b[39;00m tqdm(\n\u001b[0;32m     49\u001b[0m     data\u001b[38;5;241m.\u001b[39mitertuples(), total\u001b[38;5;241m=\u001b[39mdata\u001b[38;5;241m.\u001b[39mshape[\u001b[38;5;241m0\u001b[39m], desc\u001b[38;5;241m=\u001b[39m\u001b[38;5;124m\"\u001b[39m\u001b[38;5;124mGenerating reference dataframe\u001b[39m\u001b[38;5;124m\"\u001b[39m\n\u001b[0;32m     50\u001b[0m ):\n\u001b[1;32m---> 51\u001b[0m     res\u001b[38;5;241m.\u001b[39mappend(\u001b[43mcomputational_wrapper\u001b[49m\u001b[43m(\u001b[49m\u001b[43mrow\u001b[49m\u001b[43m,\u001b[49m\u001b[43m \u001b[49m\u001b[43mlat_i\u001b[49m\u001b[43m,\u001b[49m\u001b[43m \u001b[49m\u001b[43mlong_i\u001b[49m\u001b[43m,\u001b[49m\u001b[43m \u001b[49m\u001b[43midx\u001b[49m\u001b[43m,\u001b[49m\u001b[43m \u001b[49m\u001b[43mtime_i\u001b[49m\u001b[43m)\u001b[49m)\n\u001b[0;32m     53\u001b[0m res \u001b[38;5;241m=\u001b[39m pd\u001b[38;5;241m.\u001b[39mDataFrame(\n\u001b[0;32m     54\u001b[0m     res,\n\u001b[0;32m     55\u001b[0m     columns\u001b[38;5;241m=\u001b[39m[new_name, \u001b[38;5;124m\"\u001b[39m\u001b[38;5;124mIndustry of CB\u001b[39m\u001b[38;5;124m\"\u001b[39m, distance_name],\n\u001b[0;32m     56\u001b[0m     index\u001b[38;5;241m=\u001b[39mdata\u001b[38;5;241m.\u001b[39mindex,\n\u001b[0;32m     57\u001b[0m )\n\u001b[0;32m     59\u001b[0m \u001b[38;5;28;01mreturn\u001b[39;00m data\u001b[38;5;241m.\u001b[39mmerge(res, how\u001b[38;5;241m=\u001b[39m\u001b[38;5;124m\"\u001b[39m\u001b[38;5;124mleft\u001b[39m\u001b[38;5;124m\"\u001b[39m, left_index\u001b[38;5;241m=\u001b[39m\u001b[38;5;28;01mTrue\u001b[39;00m, right_index\u001b[38;5;241m=\u001b[39m\u001b[38;5;28;01mTrue\u001b[39;00m)\n",
      "Cell \u001b[1;32mIn[38], line 15\u001b[0m, in \u001b[0;36mcomputational_wrapper\u001b[1;34m(row, lat_i, long_i, idx, time_i, n)\u001b[0m\n\u001b[0;32m     10\u001b[0m locations \u001b[38;5;241m=\u001b[39m locations[\n\u001b[0;32m     11\u001b[0m     (locations[\u001b[38;5;124m\"\u001b[39m\u001b[38;5;124mactive_from\u001b[39m\u001b[38;5;124m\"\u001b[39m] \u001b[38;5;241m<\u001b[39m\u001b[38;5;241m=\u001b[39m row[time_i])\n\u001b[0;32m     12\u001b[0m     \u001b[38;5;241m&\u001b[39m (locations[\u001b[38;5;124m\"\u001b[39m\u001b[38;5;124mactive_to\u001b[39m\u001b[38;5;124m\"\u001b[39m] \u001b[38;5;241m>\u001b[39m\u001b[38;5;241m=\u001b[39m row[time_i])\n\u001b[0;32m     13\u001b[0m ]\n\u001b[0;32m     14\u001b[0m \u001b[38;5;28;01mif\u001b[39;00m locations\u001b[38;5;241m.\u001b[39mempty:\n\u001b[1;32m---> 15\u001b[0m     \u001b[38;5;28;01mreturn\u001b[39;00m \u001b[43mcomputational_wrapper\u001b[49m\u001b[43m(\u001b[49m\u001b[43mrow\u001b[49m\u001b[43m,\u001b[49m\u001b[43m \u001b[49m\u001b[43mlat_i\u001b[49m\u001b[43m,\u001b[49m\u001b[43m \u001b[49m\u001b[43mlong_i\u001b[49m\u001b[43m,\u001b[49m\u001b[43m \u001b[49m\u001b[43midx\u001b[49m\u001b[43m,\u001b[49m\u001b[43m \u001b[49m\u001b[43mtime_i\u001b[49m\u001b[43m,\u001b[49m\u001b[43m \u001b[49m\u001b[43mn\u001b[49m\u001b[43m \u001b[49m\u001b[38;5;241;43m*\u001b[39;49m\u001b[43m \u001b[49m\u001b[38;5;241;43m2\u001b[39;49m\u001b[43m)\u001b[49m\n\u001b[0;32m     16\u001b[0m \u001b[38;5;28;01mreturn\u001b[39;00m (\n\u001b[0;32m     17\u001b[0m     locations\u001b[38;5;241m.\u001b[39miloc[\u001b[38;5;241m0\u001b[39m][\u001b[38;5;124m\"\u001b[39m\u001b[38;5;124mname\u001b[39m\u001b[38;5;124m\"\u001b[39m],\n\u001b[0;32m     18\u001b[0m     locations\u001b[38;5;241m.\u001b[39miloc[\u001b[38;5;241m0\u001b[39m][\u001b[38;5;124m\"\u001b[39m\u001b[38;5;124mindustry\u001b[39m\u001b[38;5;124m\"\u001b[39m],\n\u001b[1;32m   (...)\u001b[0m\n\u001b[0;32m     22\u001b[0m     ),\n\u001b[0;32m     23\u001b[0m )\n",
      "Cell \u001b[1;32mIn[38], line 15\u001b[0m, in \u001b[0;36mcomputational_wrapper\u001b[1;34m(row, lat_i, long_i, idx, time_i, n)\u001b[0m\n\u001b[0;32m     10\u001b[0m locations \u001b[38;5;241m=\u001b[39m locations[\n\u001b[0;32m     11\u001b[0m     (locations[\u001b[38;5;124m\"\u001b[39m\u001b[38;5;124mactive_from\u001b[39m\u001b[38;5;124m\"\u001b[39m] \u001b[38;5;241m<\u001b[39m\u001b[38;5;241m=\u001b[39m row[time_i])\n\u001b[0;32m     12\u001b[0m     \u001b[38;5;241m&\u001b[39m (locations[\u001b[38;5;124m\"\u001b[39m\u001b[38;5;124mactive_to\u001b[39m\u001b[38;5;124m\"\u001b[39m] \u001b[38;5;241m>\u001b[39m\u001b[38;5;241m=\u001b[39m row[time_i])\n\u001b[0;32m     13\u001b[0m ]\n\u001b[0;32m     14\u001b[0m \u001b[38;5;28;01mif\u001b[39;00m locations\u001b[38;5;241m.\u001b[39mempty:\n\u001b[1;32m---> 15\u001b[0m     \u001b[38;5;28;01mreturn\u001b[39;00m \u001b[43mcomputational_wrapper\u001b[49m\u001b[43m(\u001b[49m\u001b[43mrow\u001b[49m\u001b[43m,\u001b[49m\u001b[43m \u001b[49m\u001b[43mlat_i\u001b[49m\u001b[43m,\u001b[49m\u001b[43m \u001b[49m\u001b[43mlong_i\u001b[49m\u001b[43m,\u001b[49m\u001b[43m \u001b[49m\u001b[43midx\u001b[49m\u001b[43m,\u001b[49m\u001b[43m \u001b[49m\u001b[43mtime_i\u001b[49m\u001b[43m,\u001b[49m\u001b[43m \u001b[49m\u001b[43mn\u001b[49m\u001b[43m \u001b[49m\u001b[38;5;241;43m*\u001b[39;49m\u001b[43m \u001b[49m\u001b[38;5;241;43m2\u001b[39;49m\u001b[43m)\u001b[49m\n\u001b[0;32m     16\u001b[0m \u001b[38;5;28;01mreturn\u001b[39;00m (\n\u001b[0;32m     17\u001b[0m     locations\u001b[38;5;241m.\u001b[39miloc[\u001b[38;5;241m0\u001b[39m][\u001b[38;5;124m\"\u001b[39m\u001b[38;5;124mname\u001b[39m\u001b[38;5;124m\"\u001b[39m],\n\u001b[0;32m     18\u001b[0m     locations\u001b[38;5;241m.\u001b[39miloc[\u001b[38;5;241m0\u001b[39m][\u001b[38;5;124m\"\u001b[39m\u001b[38;5;124mindustry\u001b[39m\u001b[38;5;124m\"\u001b[39m],\n\u001b[1;32m   (...)\u001b[0m\n\u001b[0;32m     22\u001b[0m     ),\n\u001b[0;32m     23\u001b[0m )\n",
      "Cell \u001b[1;32mIn[38], line 9\u001b[0m, in \u001b[0;36mcomputational_wrapper\u001b[1;34m(row, lat_i, long_i, idx, time_i, n)\u001b[0m\n\u001b[0;32m      8\u001b[0m \u001b[38;5;28;01mdef\u001b[39;00m \u001b[38;5;21mcomputational_wrapper\u001b[39m(row, lat_i, long_i, idx, time_i, n\u001b[38;5;241m=\u001b[39m\u001b[38;5;241m1\u001b[39m):\n\u001b[1;32m----> 9\u001b[0m     locations \u001b[38;5;241m=\u001b[39m pd\u001b[38;5;241m.\u001b[39mDataFrame(\u001b[43mget_nearest_locations\u001b[49m\u001b[43m(\u001b[49m\u001b[43midx\u001b[49m\u001b[43m,\u001b[49m\u001b[43m \u001b[49m\u001b[43mrow\u001b[49m\u001b[43m[\u001b[49m\u001b[43mlat_i\u001b[49m\u001b[43m]\u001b[49m\u001b[43m,\u001b[49m\u001b[43m \u001b[49m\u001b[43mrow\u001b[49m\u001b[43m[\u001b[49m\u001b[43mlong_i\u001b[49m\u001b[43m]\u001b[49m\u001b[43m,\u001b[49m\u001b[43m \u001b[49m\u001b[43mn\u001b[49m\u001b[43m)\u001b[49m)\n\u001b[0;32m     10\u001b[0m     locations \u001b[38;5;241m=\u001b[39m locations[\n\u001b[0;32m     11\u001b[0m         (locations[\u001b[38;5;124m\"\u001b[39m\u001b[38;5;124mactive_from\u001b[39m\u001b[38;5;124m\"\u001b[39m] \u001b[38;5;241m<\u001b[39m\u001b[38;5;241m=\u001b[39m row[time_i])\n\u001b[0;32m     12\u001b[0m         \u001b[38;5;241m&\u001b[39m (locations[\u001b[38;5;124m\"\u001b[39m\u001b[38;5;124mactive_to\u001b[39m\u001b[38;5;124m\"\u001b[39m] \u001b[38;5;241m>\u001b[39m\u001b[38;5;241m=\u001b[39m row[time_i])\n\u001b[0;32m     13\u001b[0m     ]\n\u001b[0;32m     14\u001b[0m     \u001b[38;5;28;01mif\u001b[39;00m locations\u001b[38;5;241m.\u001b[39mempty:\n",
      "Cell \u001b[1;32mIn[38], line 4\u001b[0m, in \u001b[0;36mget_nearest_locations\u001b[1;34m(idx, lat, lang, n)\u001b[0m\n\u001b[0;32m      1\u001b[0m \u001b[38;5;28;01mdef\u001b[39;00m \u001b[38;5;21mget_nearest_locations\u001b[39m(idx, lat, lang, n):\n\u001b[0;32m      2\u001b[0m     \u001b[38;5;28;01mreturn\u001b[39;00m [\n\u001b[0;32m      3\u001b[0m         item\u001b[38;5;241m.\u001b[39mobject\n\u001b[1;32m----> 4\u001b[0m         \u001b[38;5;28;01mfor\u001b[39;00m item \u001b[38;5;129;01min\u001b[39;00m \u001b[38;5;28mlist\u001b[39m(\u001b[43midx\u001b[49m\u001b[38;5;241;43m.\u001b[39;49m\u001b[43mnearest\u001b[49m\u001b[43m(\u001b[49m\u001b[43m(\u001b[49m\u001b[43mlat\u001b[49m\u001b[43m,\u001b[49m\u001b[43m \u001b[49m\u001b[43mlang\u001b[49m\u001b[43m,\u001b[49m\u001b[43m \u001b[49m\u001b[43mlat\u001b[49m\u001b[43m,\u001b[49m\u001b[43m \u001b[49m\u001b[43mlang\u001b[49m\u001b[43m)\u001b[49m\u001b[43m,\u001b[49m\u001b[43m \u001b[49m\u001b[43mn\u001b[49m\u001b[43m,\u001b[49m\u001b[43m \u001b[49m\u001b[43mobjects\u001b[49m\u001b[38;5;241;43m=\u001b[39;49m\u001b[38;5;28;43;01mTrue\u001b[39;49;00m\u001b[43m)\u001b[49m)\n\u001b[0;32m      5\u001b[0m     ]\n",
      "File \u001b[1;32mc:\\Users\\rjutr\\anaconda3\\envs\\bigdata\\lib\\site-packages\\rtree\\index.py:1028\u001b[0m, in \u001b[0;36mIndex.nearest\u001b[1;34m(self, coordinates, num_results, objects)\u001b[0m\n\u001b[0;32m   1025\u001b[0m     \u001b[38;5;28;01mreturn\u001b[39;00m \u001b[38;5;28mself\u001b[39m\u001b[38;5;241m.\u001b[39m_nearestTP(\u001b[38;5;241m*\u001b[39mcoordinates, objects\u001b[38;5;241m=\u001b[39mobjects)  \u001b[38;5;66;03m# type: ignore[misc]\u001b[39;00m\n\u001b[0;32m   1027\u001b[0m \u001b[38;5;28;01mif\u001b[39;00m objects:\n\u001b[1;32m-> 1028\u001b[0m     \u001b[38;5;28;01mreturn\u001b[39;00m \u001b[38;5;28;43mself\u001b[39;49m\u001b[38;5;241;43m.\u001b[39;49m\u001b[43m_nearest_obj\u001b[49m\u001b[43m(\u001b[49m\u001b[43mcoordinates\u001b[49m\u001b[43m,\u001b[49m\u001b[43m \u001b[49m\u001b[43mnum_results\u001b[49m\u001b[43m,\u001b[49m\u001b[43m \u001b[49m\u001b[43mobjects\u001b[49m\u001b[43m)\u001b[49m\n\u001b[0;32m   1029\u001b[0m p_mins, p_maxs \u001b[38;5;241m=\u001b[39m \u001b[38;5;28mself\u001b[39m\u001b[38;5;241m.\u001b[39mget_coordinate_pointers(coordinates)\n\u001b[0;32m   1031\u001b[0m \u001b[38;5;66;03m# p_num_results is an input and output for C++ lib\u001b[39;00m\n\u001b[0;32m   1032\u001b[0m \u001b[38;5;66;03m# as an input it says \"get n closest neighbors\"\u001b[39;00m\n\u001b[0;32m   1033\u001b[0m \u001b[38;5;66;03m# but if multiple neighbors are at the same distance, both\u001b[39;00m\n\u001b[1;32m   (...)\u001b[0m\n\u001b[0;32m   1037\u001b[0m \u001b[38;5;66;03m# C++ lib to indicate the actual number of results for\u001b[39;00m\n\u001b[0;32m   1038\u001b[0m \u001b[38;5;66;03m# _get_ids to use\u001b[39;00m\n",
      "File \u001b[1;32mc:\\Users\\rjutr\\anaconda3\\envs\\bigdata\\lib\\site-packages\\rtree\\index.py:956\u001b[0m, in \u001b[0;36mIndex._nearest_obj\u001b[1;34m(self, coordinates, num_results, objects)\u001b[0m\n\u001b[0;32m    952\u001b[0m p_num_results \u001b[38;5;241m=\u001b[39m ctypes\u001b[38;5;241m.\u001b[39mpointer(ctypes\u001b[38;5;241m.\u001b[39mc_uint64(num_results))\n\u001b[0;32m    954\u001b[0m it \u001b[38;5;241m=\u001b[39m ctypes\u001b[38;5;241m.\u001b[39mpointer(ctypes\u001b[38;5;241m.\u001b[39mc_void_p())\n\u001b[1;32m--> 956\u001b[0m \u001b[43mcore\u001b[49m\u001b[38;5;241;43m.\u001b[39;49m\u001b[43mrt\u001b[49m\u001b[38;5;241;43m.\u001b[39;49m\u001b[43mIndex_NearestNeighbors_obj\u001b[49m\u001b[43m(\u001b[49m\n\u001b[0;32m    957\u001b[0m \u001b[43m    \u001b[49m\u001b[38;5;28;43mself\u001b[39;49m\u001b[38;5;241;43m.\u001b[39;49m\u001b[43mhandle\u001b[49m\u001b[43m,\u001b[49m\n\u001b[0;32m    958\u001b[0m \u001b[43m    \u001b[49m\u001b[43mp_mins\u001b[49m\u001b[43m,\u001b[49m\n\u001b[0;32m    959\u001b[0m \u001b[43m    \u001b[49m\u001b[43mp_maxs\u001b[49m\u001b[43m,\u001b[49m\n\u001b[0;32m    960\u001b[0m \u001b[43m    \u001b[49m\u001b[38;5;28;43mself\u001b[39;49m\u001b[38;5;241;43m.\u001b[39;49m\u001b[43mproperties\u001b[49m\u001b[38;5;241;43m.\u001b[39;49m\u001b[43mdimension\u001b[49m\u001b[43m,\u001b[49m\n\u001b[0;32m    961\u001b[0m \u001b[43m    \u001b[49m\u001b[43mctypes\u001b[49m\u001b[38;5;241;43m.\u001b[39;49m\u001b[43mbyref\u001b[49m\u001b[43m(\u001b[49m\u001b[43mit\u001b[49m\u001b[43m)\u001b[49m\u001b[43m,\u001b[49m\n\u001b[0;32m    962\u001b[0m \u001b[43m    \u001b[49m\u001b[43mp_num_results\u001b[49m\u001b[43m,\u001b[49m\n\u001b[0;32m    963\u001b[0m \u001b[43m\u001b[49m\u001b[43m)\u001b[49m\n\u001b[0;32m    965\u001b[0m \u001b[38;5;28;01mreturn\u001b[39;00m \u001b[38;5;28mself\u001b[39m\u001b[38;5;241m.\u001b[39m_get_objects(it, p_num_results\u001b[38;5;241m.\u001b[39mcontents\u001b[38;5;241m.\u001b[39mvalue, objects)\n",
      "File \u001b[1;32mc:\\Users\\rjutr\\anaconda3\\envs\\bigdata\\lib\\site-packages\\rtree\\core.py:7\u001b[0m, in \u001b[0;36mcheck_return\u001b[1;34m(result, func, cargs)\u001b[0m\n\u001b[0;32m      3\u001b[0m \u001b[38;5;28;01mfrom\u001b[39;00m \u001b[38;5;21;01m.\u001b[39;00m \u001b[38;5;28;01mimport\u001b[39;00m finder\n\u001b[0;32m      4\u001b[0m \u001b[38;5;28;01mfrom\u001b[39;00m \u001b[38;5;21;01m.\u001b[39;00m\u001b[38;5;21;01mexceptions\u001b[39;00m \u001b[38;5;28;01mimport\u001b[39;00m RTreeError\n\u001b[1;32m----> 7\u001b[0m \u001b[38;5;28;01mdef\u001b[39;00m \u001b[38;5;21mcheck_return\u001b[39m(result, func, cargs):\n\u001b[0;32m      8\u001b[0m     \u001b[38;5;124m\"\u001b[39m\u001b[38;5;124mError checking for Error calls\u001b[39m\u001b[38;5;124m\"\u001b[39m\n\u001b[0;32m      9\u001b[0m     \u001b[38;5;28;01mif\u001b[39;00m result \u001b[38;5;241m!=\u001b[39m \u001b[38;5;241m0\u001b[39m:\n",
      "\u001b[1;31mKeyboardInterrupt\u001b[0m: "
     ]
    }
   ],
   "source": [
    "%%time\n",
    "data_w_ms_hs_li_ls_b= process_merge_2(data_w_w_ms_hs_li_ls, b_data, \"Closest Business\", \"Distance to CB\", \"Business Name\", \"../data/augmented_data/tickets_w_ms_hs_li_ls_b_2015.parquet\")"
   ]
  },
  {
   "cell_type": "code",
   "execution_count": null,
   "metadata": {},
   "outputs": [],
   "source": [
    "data_w_ms_hs_li_ls_b.shape"
   ]
  }
 ],
 "metadata": {
  "kernelspec": {
   "display_name": "bigdata",
   "language": "python",
   "name": "python3"
  },
  "language_info": {
   "codemirror_mode": {
    "name": "ipython",
    "version": 3
   },
   "file_extension": ".py",
   "mimetype": "text/x-python",
   "name": "python",
   "nbconvert_exporter": "python",
   "pygments_lexer": "ipython3",
   "version": "3.10.14"
  }
 },
 "nbformat": 4,
 "nbformat_minor": 2
}
