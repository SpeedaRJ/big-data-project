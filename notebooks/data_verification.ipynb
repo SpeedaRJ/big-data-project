{
 "cells": [
  {
   "cell_type": "code",
   "execution_count": 1,
   "metadata": {},
   "outputs": [],
   "source": [
    "import pandas as pd\n",
    "import os\n",
    "from pathlib import Path\n",
    "from tqdm.notebook import tqdm"
   ]
  },
  {
   "cell_type": "code",
   "execution_count": 2,
   "metadata": {},
   "outputs": [
    {
     "data": {
      "application/vnd.jupyter.widget-view+json": {
       "model_id": "186ab2508ad4486c83dbe3b3ecac0a05",
       "version_major": 2,
       "version_minor": 0
      },
      "text/plain": [
       "  0%|          | 0/11 [00:00<?, ?it/s]"
      ]
     },
     "metadata": {},
     "output_type": "display_data"
    }
   ],
   "source": [
    "data = {}\n",
    "\n",
    "for file in tqdm(os.listdir(\"../../data/parquet\")):\n",
    "    file_path = os.path.join(\"../../data/parquet\", file)\n",
    "    year = int(Path(file_path).stem)\n",
    "    data[year] = pd.read_parquet(file_path)"
   ]
  },
  {
   "cell_type": "code",
   "execution_count": 3,
   "metadata": {},
   "outputs": [],
   "source": [
    "fiscal_year = lambda year: (\n",
    "    pd.Timestamp(year=year - 1, month=7, day=1),\n",
    "    pd.Timestamp(year=year, month=6, day=30),\n",
    ")\n",
    "\n",
    "filter_row = lambda beginning, ending: lambda row: (\n",
    "    beginning < pd.Timestamp(row[\"Issue Date\"], unit=\"ms\")\n",
    ") and (pd.Timestamp(row[\"Issue Date\"], unit=\"ms\") < ending)\n",
    "\n",
    "\n",
    "def filter_rows_by_date(dataframe, year):\n",
    "    fiscal_row_filter = filter_row(*fiscal_year(year))\n",
    "    return dataframe.apply(fiscal_row_filter, axis=1)"
   ]
  },
  {
   "cell_type": "markdown",
   "metadata": {},
   "source": [
    "`9100275` Rows before filtering by fiscal dates for the 2014 dataset, and `9087141` after filtering for the fiscal year."
   ]
  },
  {
   "cell_type": "code",
   "execution_count": 4,
   "metadata": {},
   "outputs": [
    {
     "data": {
      "application/vnd.jupyter.widget-view+json": {
       "model_id": "20ee449af3e34530b2a6ac8f81612eeb",
       "version_major": 2,
       "version_minor": 0
      },
      "text/plain": [
       "  0%|          | 0/11 [00:00<?, ?it/s]"
      ]
     },
     "metadata": {},
     "output_type": "display_data"
    }
   ],
   "source": [
    "for year in tqdm(data.keys()):\n",
    "    data[year] = data[year][filter_rows_by_date(data[year], year)]"
   ]
  },
  {
   "cell_type": "code",
   "execution_count": 5,
   "metadata": {},
   "outputs": [],
   "source": [
    "import numpy as np\n",
    "\n",
    "column_naming_convention = {}\n",
    "column_typing_convention = {}\n",
    "\n",
    "for year in data.keys():\n",
    "    for i, column in enumerate(data[year].columns):\n",
    "        if i not in column_naming_convention:\n",
    "            column_naming_convention[i] = []\n",
    "        column_naming_convention[i].append(column)\n",
    "\n",
    "    for i, dtype in enumerate(data[year].dtypes):\n",
    "        if i not in column_typing_convention:\n",
    "            column_typing_convention[i] = []\n",
    "        column_typing_convention[i].append(dtype)\n",
    "\n",
    "for column in column_naming_convention:\n",
    "    values, counts = np.unique(column_naming_convention[column], return_counts=True)\n",
    "    column_naming_convention[column] = (values, counts)\n",
    "\n",
    "for column in column_typing_convention:\n",
    "    values, counts = np.unique(column_typing_convention[column], return_counts=True)\n",
    "    column_typing_convention[column] = (values, counts)\n",
    "\n",
    "column_names = [\n",
    "    counting_data[0][np.argmax(counting_data[1])].strip()\n",
    "    for _, counting_data in column_naming_convention.items()\n",
    "]\n",
    "\n",
    "column_types = [\n",
    "    counting_data[0][np.argmax(counting_data[1])]\n",
    "    for _, counting_data in column_typing_convention.items()\n",
    "]\n",
    "\n",
    "for year in data.keys():\n",
    "    data[year].columns = column_names\n",
    "\n",
    "type_dict = {\n",
    "    column: dtype for column, dtype in zip(column_names, column_types)\n",
    "}"
   ]
  },
  {
   "cell_type": "code",
   "execution_count": 6,
   "metadata": {},
   "outputs": [
    {
     "name": "stdout",
     "output_type": "stream",
     "text": [
      "Error in year 2014: invalid literal for int() with base 10: '': Error while type casting for column 'Violation Location'\n",
      "Error in year 2014: invalid literal for int() with base 10: '': Error while type casting for column 'Vehicle Year'\n",
      "Error in year 2015: invalid literal for int() with base 10: '': Error while type casting for column 'Vehicle Expiration Date'\n",
      "Error in year 2015: invalid literal for int() with base 10: '': Error while type casting for column 'Violation Location'\n",
      "Error in year 2015: invalid literal for int() with base 10: '01/05/0001 12:00:00 PM': Error while type casting for column 'Date First Observed'\n",
      "Error in year 2015: invalid literal for int() with base 10: '': Error while type casting for column 'Vehicle Year'\n",
      "Error in year 2016: invalid literal for int() with base 10: '': Error while type casting for column 'Violation Location'\n",
      "Error in year 2016: invalid literal for int() with base 10: '': Error while type casting for column 'Vehicle Year'\n",
      "Error in year 2017: invalid literal for int() with base 10: '': Error while type casting for column 'Violation Location'\n",
      "Error in year 2024: invalid literal for int() with base 10: '': Error while type casting for column 'Violation Location'\n"
     ]
    }
   ],
   "source": [
    "def hand_curated_type_definitions(data, column):\n",
    "    if column in [\"Vehicle Expiration Date\", \"Date First Observed\"]:\n",
    "        data[column] = (\n",
    "            pd.to_numeric(data[column].replace(\"01/05/0001 12:00:00 PM\", \"\"))\n",
    "            .fillna(-1)\n",
    "            .astype(np.int64)\n",
    "        )\n",
    "    elif column in [\"Vehicle Year\", \"Violation Location\"]:\n",
    "        data[column] = pd.to_numeric(data[column]).fillna(-1).astype(np.int64)\n",
    "    else:\n",
    "        raise ValueError(f\"Column {column} is not supported\")\n",
    "    return data\n",
    "\n",
    "type_dict[\"Unregistered Vehicle?\"] = np.dtype(\"O\")\n",
    "\n",
    "for year in data.keys():\n",
    "    parsed = False\n",
    "    while not parsed:\n",
    "        try:\n",
    "            data[year] = data[year].astype(type_dict)\n",
    "            parsed = True\n",
    "        except Exception as e:\n",
    "            error_column = str(e).split(\"column\")[-1].strip().replace(\"'\", \"\")\n",
    "            print(f\"Error in year {year}: {e}\")\n",
    "            data[year] = hand_curated_type_definitions(data[year], error_column)"
   ]
  },
  {
   "cell_type": "code",
   "execution_count": 7,
   "metadata": {},
   "outputs": [],
   "source": [
    "data_concatenated = pd.concat([data[year] for year in data.keys()])"
   ]
  },
  {
   "cell_type": "code",
   "execution_count": 25,
   "metadata": {},
   "outputs": [],
   "source": [
    "highest_column_frequency = {}"
   ]
  },
  {
   "cell_type": "code",
   "execution_count": 27,
   "metadata": {},
   "outputs": [],
   "source": [
    "for column in data_concatenated.columns:\n",
    "    counts = data_concatenated[column].value_counts()\n",
    "    highest_column_frequency[column] = (\n",
    "        (counts.index, counts.values / len(data_concatenated))\n",
    "    )"
   ]
  },
  {
   "cell_type": "code",
   "execution_count": 53,
   "metadata": {},
   "outputs": [],
   "source": [
    "nullable_values = [-1, \"\"]\n",
    "columns_to_remove = []"
   ]
  },
  {
   "cell_type": "code",
   "execution_count": null,
   "metadata": {},
   "outputs": [],
   "source": [
    "for column in highest_column_frequency:\n",
    "    values = highest_column_frequency[column][0]\n",
    "    frequencies = highest_column_frequency[column][1]\n",
    "    frequencies_of_nullable_values = np.array([(values[i], frequencies[i]) for i in range(len(values)) if values[i] in nullable_values])\n",
    "    if frequencies_of_nullable_values.size > 0 and (frequencies_of_nullable_values)[:,1].astype(np.float64).sum() > 0.75:\n",
    "        columns_to_remove.append(column)"
   ]
  },
  {
   "cell_type": "code",
   "execution_count": 58,
   "metadata": {},
   "outputs": [],
   "source": [
    "data_concatenated.drop(columns=columns_to_remove, inplace=True)"
   ]
  }
 ],
 "metadata": {
  "kernelspec": {
   "display_name": "bigdata",
   "language": "python",
   "name": "python3"
  },
  "language_info": {
   "codemirror_mode": {
    "name": "ipython",
    "version": 3
   },
   "file_extension": ".py",
   "mimetype": "text/x-python",
   "name": "python",
   "nbconvert_exporter": "python",
   "pygments_lexer": "ipython3",
   "version": "3.10.14"
  }
 },
 "nbformat": 4,
 "nbformat_minor": 2
}
