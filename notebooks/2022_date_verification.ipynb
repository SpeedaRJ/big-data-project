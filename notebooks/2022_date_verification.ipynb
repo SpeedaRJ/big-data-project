{
 "cells": [
  {
   "cell_type": "code",
   "execution_count": 143,
   "metadata": {},
   "outputs": [],
   "source": [
    "import pandas as pd"
   ]
  },
  {
   "cell_type": "code",
   "execution_count": 144,
   "metadata": {},
   "outputs": [],
   "source": [
    "data = pd.read_parquet(\"D:\\\\FRI\\\\Masters\\\\4. Semester\\\\BD\\\\project\\\\big-data-project\\\\data\\\\parking_tickets\\\\parquet\\\\unprocessed\\\\2022.parquet\")\n",
    "original_sc = pd.read_csv(\"../data\\meta_data\\street_code_mapper.csv\")\n",
    "new_sc = pd.read_csv(\"../data\\meta_data\\street_code_mapper_C.csv\")"
   ]
  },
  {
   "cell_type": "code",
   "execution_count": 145,
   "metadata": {},
   "outputs": [],
   "source": [
    "original_sc = original_sc.T\n",
    "original_sc.columns = original_sc.iloc[0]\n",
    "original_sc = original_sc[1:]"
   ]
  },
  {
   "cell_type": "code",
   "execution_count": 107,
   "metadata": {},
   "outputs": [],
   "source": [
    "new_sc.set_index(\"Unnamed: 0\", inplace=True)"
   ]
  },
  {
   "cell_type": "code",
   "execution_count": 102,
   "metadata": {},
   "outputs": [],
   "source": [
    "borough_codes = {\n",
    "    \"Manhattan\": 1,\n",
    "    \"Bronx\": 2,\n",
    "    \"Brooklyn\": 3,\n",
    "    \"Queens\": 4,\n",
    "    \"Staten Island\": 5,\n",
    "    \"NY\": 1,\n",
    "    \"MN\": 1,\n",
    "    \"MAN\": 1,\n",
    "    \"NEWY\": 1,\n",
    "    \"NEW Y\": 1,\n",
    "    \"NYC\": 1,\n",
    "    \"N\": 1,\n",
    "    \"MH\": 1,\n",
    "    \"BX\": 2,\n",
    "    \"BRONX\": 2,\n",
    "    \"K\": 3,\n",
    "    \"Kings\": 3,\n",
    "    \"BK\": 3,\n",
    "    \"KINGS\": 3,\n",
    "    \"KING\": 3,\n",
    "    \"Q\": 4,\n",
    "    \"QN\": 4,\n",
    "    \"Qns\": 4,\n",
    "    \"QUEEN\": 4,\n",
    "    \"QNS\": 4,\n",
    "    \"QU\": 4,\n",
    "    \"ST\": 5,\n",
    "    \"Rich\": 5,\n",
    "    \"R\": 5,\n",
    "    \"RICH\": 5,\n",
    "    \"RC\": 5,\n",
    "    \"\": 0,\n",
    "    \"VINIS\": 0\n",
    "}\n"
   ]
  },
  {
   "cell_type": "code",
   "execution_count": 148,
   "metadata": {},
   "outputs": [
    {
     "data": {
      "text/plain": [
       "(14765377, 43)"
      ]
     },
     "execution_count": 148,
     "metadata": {},
     "output_type": "execute_result"
    }
   ],
   "source": [
    "data.shape"
   ]
  },
  {
   "cell_type": "code",
   "execution_count": 153,
   "metadata": {},
   "outputs": [
    {
     "data": {
      "text/plain": [
       "(150, 43)"
      ]
     },
     "execution_count": 153,
     "metadata": {},
     "output_type": "execute_result"
    }
   ],
   "source": [
    "test1 = data[(data[\"Issue Date\"] > pd.Timestamp(year=2021, month=7, day=1, unit=\"ms\").timestamp() * 1000) & (data[\"Issue Date\"] < pd.Timestamp(year=2022, month=6, day=30, unit=\"ms\").timestamp() * 1000)]\n",
    "test1.shape"
   ]
  }
 ],
 "metadata": {
  "language_info": {
   "name": "python"
  }
 },
 "nbformat": 4,
 "nbformat_minor": 2
}
