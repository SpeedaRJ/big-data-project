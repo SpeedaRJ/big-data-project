{
 "cells": [
  {
   "cell_type": "code",
   "execution_count": 1,
   "metadata": {},
   "outputs": [],
   "source": [
    "import pandas as pd\n",
    "\n",
    "import os\n",
    "\n",
    "os.chdir(\"../data_scripts\")\n",
    "\n",
    "from to_hdf5 import save_to_hdf5, read_hdf5\n",
    "\n",
    "os.chdir(\"../notebooks\")"
   ]
  },
  {
   "cell_type": "code",
   "execution_count": 7,
   "metadata": {},
   "outputs": [
    {
     "name": "stdout",
     "output_type": "stream",
     "text": [
      "Done ../data/parking_tickets/hdf5/filtered//2022_filtered.h5...\n",
      "Done ../data/parking_tickets/hdf5/filtered//2015_filtered.h5...\n",
      "Done ../data/parking_tickets/hdf5/filtered//2024_filtered.h5...\n",
      "Done ../data/parking_tickets/hdf5/filtered//2016_filtered.h5...\n"
     ]
    }
   ],
   "source": [
    "for file in os.listdir(\"../data/parking_tickets/parquet/filtered\"):\n",
    "    data = pd.read_parquet(f\"../data/parking_tickets/parquet/filtered/{file}\")\n",
    "    new_path = f\"../data/parking_tickets/hdf5/filtered/\"\n",
    "    save_to_hdf5(data, new_path, file.replace('.parquet', ''))\n",
    "    print(f\"Done {new_path}/{file.replace('.parquet', '')}.h5...\")"
   ]
  }
 ],
 "metadata": {
  "kernelspec": {
   "display_name": ".venv",
   "language": "python",
   "name": "python3"
  },
  "language_info": {
   "codemirror_mode": {
    "name": "ipython",
    "version": 3
   },
   "file_extension": ".py",
   "mimetype": "text/x-python",
   "name": "python",
   "nbconvert_exporter": "python",
   "pygments_lexer": "ipython3",
   "version": "3.10.14"
  }
 },
 "nbformat": 4,
 "nbformat_minor": 2
}
