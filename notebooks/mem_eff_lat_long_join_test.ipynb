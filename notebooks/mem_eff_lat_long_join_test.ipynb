{
 "cells": [
  {
   "cell_type": "code",
   "execution_count": 1,
   "metadata": {},
   "outputs": [
    {
     "name": "stderr",
     "output_type": "stream",
     "text": [
      "c:\\Users\\rjutr\\anaconda3\\envs\\bigdata\\lib\\site-packages\\distributed\\node.py:182: UserWarning: Port 8787 is already in use.\n",
      "Perhaps you already have a cluster running?\n",
      "Hosting the HTTP server on port 61711 instead\n",
      "  warnings.warn(\n"
     ]
    }
   ],
   "source": [
    "from dask.distributed import Client, LocalCluster\n",
    "import dask.dataframe as dd\n",
    "from haversine import haversine\n",
    "from dask.diagnostics import ProgressBar\n",
    "from dask.distributed import progress\n",
    "\n",
    "cluster = LocalCluster(n_workers=4, threads_per_worker=16, memory_target_fraction=0.95, memory_limit='64GB')\n",
    "client = Client(cluster)\n",
    "\n",
    "high_schools = dd.read_csv(\"../data/additional_data/schools/high_schools_NYC_2021_processed.csv\").repartition(npartitions=4)\n",
    "middle_schools = dd.read_csv(\"../data/additional_data/schools/middle_schools_NYC_2021_processed.csv\")"
   ]
  },
  {
   "cell_type": "code",
   "execution_count": 2,
   "metadata": {},
   "outputs": [],
   "source": [
    "from rtree import index\n",
    "\n",
    "def create_rtree_index(df, name=1, lat=2, long=3):\n",
    "    idx = index.Index()\n",
    "    for i, row in enumerate(df.itertuples()):\n",
    "        idx.insert(i, (row[lat], row[long], row[lat], row[long]), obj={\"name\": row[name], \"lat\": row[lat], \"long\": row[long]})\n",
    "    return idx"
   ]
  },
  {
   "cell_type": "code",
   "execution_count": 3,
   "metadata": {},
   "outputs": [],
   "source": [
    "def test_function(idx, lat, lang):\n",
    "    hit = list(idx.nearest((lat, lang, lat, lang), 1, objects=True))[0].object\n",
    "    return (hit['name'], haversine((lat, lang), (hit['lat'], hit['long'])))\n",
    "\n",
    "def test_wrapper(row, df):\n",
    "    idx = create_rtree_index(df)\n",
    "    return test_function(idx, row['Latitude'], row['Longitude'])"
   ]
  },
  {
   "cell_type": "code",
   "execution_count": 5,
   "metadata": {},
   "outputs": [],
   "source": [
    "res = high_schools.map_partitions(lambda df: df.apply(test_wrapper, axis=1, df=middle_schools, result_type='expand'), meta={0: str, 1: float})\n",
    "res.columns = ['nearest_middle_school', 'distance_to_nms']"
   ]
  },
  {
   "cell_type": "code",
   "execution_count": 6,
   "metadata": {},
   "outputs": [],
   "source": [
    "m = client.compute(high_schools.merge(res, left_index=True, right_index=True))"
   ]
  },
  {
   "cell_type": "code",
   "execution_count": 7,
   "metadata": {},
   "outputs": [
    {
     "data": {
      "application/vnd.jupyter.widget-view+json": {
       "model_id": "c8db703295d7471d81d1f1ebf3447f01",
       "version_major": 2,
       "version_minor": 0
      },
      "text/plain": [
       "VBox()"
      ]
     },
     "metadata": {},
     "output_type": "display_data"
    }
   ],
   "source": [
    "progress(m)"
   ]
  },
  {
   "cell_type": "code",
   "execution_count": 13,
   "metadata": {},
   "outputs": [
    {
     "data": {
      "text/html": [
       "<div>\n",
       "<style scoped>\n",
       "    .dataframe tbody tr th:only-of-type {\n",
       "        vertical-align: middle;\n",
       "    }\n",
       "\n",
       "    .dataframe tbody tr th {\n",
       "        vertical-align: top;\n",
       "    }\n",
       "\n",
       "    .dataframe thead th {\n",
       "        text-align: right;\n",
       "    }\n",
       "</style>\n",
       "<table border=\"1\" class=\"dataframe\">\n",
       "  <thead>\n",
       "    <tr style=\"text-align: right;\">\n",
       "      <th></th>\n",
       "      <th>school_name</th>\n",
       "      <th>Latitude</th>\n",
       "      <th>Longitude</th>\n",
       "      <th>nearest_middle_school</th>\n",
       "      <th>distance_to_nms</th>\n",
       "    </tr>\n",
       "  </thead>\n",
       "  <tbody>\n",
       "    <tr>\n",
       "      <th>12</th>\n",
       "      <td>Food and Finance High School</td>\n",
       "      <td>40.765250</td>\n",
       "      <td>-73.993105</td>\n",
       "      <td>Professional Performing Arts School</td>\n",
       "      <td>0.601838</td>\n",
       "    </tr>\n",
       "    <tr>\n",
       "      <th>20</th>\n",
       "      <td>James Baldwin School, The</td>\n",
       "      <td>40.742867</td>\n",
       "      <td>-74.002136</td>\n",
       "      <td>Quest to Learn</td>\n",
       "      <td>0.000000</td>\n",
       "    </tr>\n",
       "    <tr>\n",
       "      <th>22</th>\n",
       "      <td>Gramercy Arts High School</td>\n",
       "      <td>40.735494</td>\n",
       "      <td>-73.987659</td>\n",
       "      <td>Ballet Tech, NYC Public School for Dance</td>\n",
       "      <td>0.394449</td>\n",
       "    </tr>\n",
       "    <tr>\n",
       "      <th>32</th>\n",
       "      <td>N.Y.C. Lab School for Collaborative Studies</td>\n",
       "      <td>40.742129</td>\n",
       "      <td>-74.002198</td>\n",
       "      <td>New York City Lab Middle School for Collaborat...</td>\n",
       "      <td>0.000000</td>\n",
       "    </tr>\n",
       "    <tr>\n",
       "      <th>33</th>\n",
       "      <td>School of the Future High School</td>\n",
       "      <td>40.738952</td>\n",
       "      <td>-73.985479</td>\n",
       "      <td>School of the Future Middle and High School</td>\n",
       "      <td>0.000000</td>\n",
       "    </tr>\n",
       "    <tr>\n",
       "      <th>...</th>\n",
       "      <td>...</td>\n",
       "      <td>...</td>\n",
       "      <td>...</td>\n",
       "      <td>...</td>\n",
       "      <td>...</td>\n",
       "    </tr>\n",
       "    <tr>\n",
       "      <th>425</th>\n",
       "      <td>CSI High School for International Studies</td>\n",
       "      <td>40.581315</td>\n",
       "      <td>-74.158589</td>\n",
       "      <td>Marsh Avenue School for Expeditionary Learning</td>\n",
       "      <td>0.000000</td>\n",
       "    </tr>\n",
       "    <tr>\n",
       "      <th>430</th>\n",
       "      <td>Curtis High School</td>\n",
       "      <td>40.644735</td>\n",
       "      <td>-74.081222</td>\n",
       "      <td>I.S. 061 William A Morris</td>\n",
       "      <td>1.839917</td>\n",
       "    </tr>\n",
       "    <tr>\n",
       "      <th>433</th>\n",
       "      <td>Ralph R. McKee Career and Technical Education ...</td>\n",
       "      <td>40.642793</td>\n",
       "      <td>-74.078730</td>\n",
       "      <td>I.S. 061 William A Morris</td>\n",
       "      <td>1.884222</td>\n",
       "    </tr>\n",
       "    <tr>\n",
       "      <th>438</th>\n",
       "      <td>Brooklyn School for Social Justice, The</td>\n",
       "      <td>40.697185</td>\n",
       "      <td>-73.911170</td>\n",
       "      <td>All City Leadership Secondary School</td>\n",
       "      <td>0.169942</td>\n",
       "    </tr>\n",
       "    <tr>\n",
       "      <th>440</th>\n",
       "      <td>All City Leadership Secondary School</td>\n",
       "      <td>40.697370</td>\n",
       "      <td>-73.913171</td>\n",
       "      <td>All City Leadership Secondary School</td>\n",
       "      <td>0.000000</td>\n",
       "    </tr>\n",
       "  </tbody>\n",
       "</table>\n",
       "<p>442 rows × 5 columns</p>\n",
       "</div>"
      ],
      "text/plain": [
       "                                           school_name   Latitude  Longitude  \\\n",
       "12                        Food and Finance High School  40.765250 -73.993105   \n",
       "20                           James Baldwin School, The  40.742867 -74.002136   \n",
       "22                           Gramercy Arts High School  40.735494 -73.987659   \n",
       "32         N.Y.C. Lab School for Collaborative Studies  40.742129 -74.002198   \n",
       "33                    School of the Future High School  40.738952 -73.985479   \n",
       "..                                                 ...        ...        ...   \n",
       "425          CSI High School for International Studies  40.581315 -74.158589   \n",
       "430                                 Curtis High School  40.644735 -74.081222   \n",
       "433  Ralph R. McKee Career and Technical Education ...  40.642793 -74.078730   \n",
       "438            Brooklyn School for Social Justice, The  40.697185 -73.911170   \n",
       "440               All City Leadership Secondary School  40.697370 -73.913171   \n",
       "\n",
       "                                 nearest_middle_school  distance_to_nms  \n",
       "12                 Professional Performing Arts School         0.601838  \n",
       "20                                      Quest to Learn         0.000000  \n",
       "22            Ballet Tech, NYC Public School for Dance         0.394449  \n",
       "32   New York City Lab Middle School for Collaborat...         0.000000  \n",
       "33         School of the Future Middle and High School         0.000000  \n",
       "..                                                 ...              ...  \n",
       "425     Marsh Avenue School for Expeditionary Learning         0.000000  \n",
       "430                          I.S. 061 William A Morris         1.839917  \n",
       "433                          I.S. 061 William A Morris         1.884222  \n",
       "438               All City Leadership Secondary School         0.169942  \n",
       "440               All City Leadership Secondary School         0.000000  \n",
       "\n",
       "[442 rows x 5 columns]"
      ]
     },
     "execution_count": 13,
     "metadata": {},
     "output_type": "execute_result"
    }
   ],
   "source": [
    "m.result()"
   ]
  },
  {
   "cell_type": "code",
   "execution_count": 4,
   "metadata": {},
   "outputs": [],
   "source": [
    "tickets = dd.read_parquet(\"../data/parking_tickets/parquet/full_data_cleaned.parquet\").repartition(npartitions=2**18)\n",
    "tmp_tickets = tickets[[\"Latitude\", \"Longitude\"]]"
   ]
  },
  {
   "cell_type": "code",
   "execution_count": 5,
   "metadata": {},
   "outputs": [],
   "source": [
    "tmp_tickets = tmp_tickets.get_partition(0)"
   ]
  },
  {
   "cell_type": "code",
   "execution_count": 6,
   "metadata": {},
   "outputs": [],
   "source": [
    "res = tmp_tickets.map_partitions(lambda df: df.apply(test_wrapper, axis=1, df=middle_schools, result_type='expand'), meta={0: str, 1: float})\n",
    "res.columns = ['nearest_middle_school', 'distance_to_nms']"
   ]
  },
  {
   "cell_type": "code",
   "execution_count": 7,
   "metadata": {},
   "outputs": [],
   "source": [
    "m = client.submit(\n",
    "    lambda df1, df2: df1.merge(df2, left_index=True, right_index=True).compute(),\n",
    "    client.scatter(tickets),\n",
    "    client.scatter(res),\n",
    ")"
   ]
  },
  {
   "cell_type": "code",
   "execution_count": 8,
   "metadata": {},
   "outputs": [
    {
     "data": {
      "application/vnd.jupyter.widget-view+json": {
       "model_id": "96f23f7cde2549309566c6c47998b7bc",
       "version_major": 2,
       "version_minor": 0
      },
      "text/plain": [
       "VBox()"
      ]
     },
     "metadata": {},
     "output_type": "display_data"
    }
   ],
   "source": [
    "progress(m)"
   ]
  }
 ],
 "metadata": {
  "kernelspec": {
   "display_name": "bigdata",
   "language": "python",
   "name": "python3"
  },
  "language_info": {
   "codemirror_mode": {
    "name": "ipython",
    "version": 3
   },
   "file_extension": ".py",
   "mimetype": "text/x-python",
   "name": "python",
   "nbconvert_exporter": "python",
   "pygments_lexer": "ipython3",
   "version": "3.10.14"
  }
 },
 "nbformat": 4,
 "nbformat_minor": 2
}
